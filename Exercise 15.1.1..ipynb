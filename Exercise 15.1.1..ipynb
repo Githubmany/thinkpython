{
 "cells": [
  {
   "cell_type": "code",
   "execution_count": null,
   "metadata": {},
   "outputs": [],
   "source": [
    "# Exercise 15.1. Write a definition for a class named Circle with attributes center and radius,\n",
    "where center is a Point object and radius is a number."
   ]
  },
  {
   "cell_type": "code",
   "execution_count": 1,
   "metadata": {},
   "outputs": [],
   "source": [
    "class Circle:\n",
    "    def __init__(self, center, radius):\n",
    "        if not isinstance(center, Point):\n",
    "            raise TypeError(\"center must be a Point object\")\n",
    "        self.center = center\n",
    "        self.radius = radius"
   ]
  },
  {
   "cell_type": "code",
   "execution_count": null,
   "metadata": {},
   "outputs": [],
   "source": [
    "# This code creates a Circle class with two attributes, center and radius. The center attribute must be a Point object, and the radius attribute can be any number.\n",
    "\n",
    "# The __init__ method is a constructor that initializes the object's attributes when it is created. It first checks if the center input is an instance of the Point class using the isinstance() function. If center is not a Point object, a TypeError is raised with a message indicating that center must be a Point object. If center is a Point object, it is assigned to the center attribute of the Circle object along with the input radius value.\n",
    "\n",
    "# Overall, this code ensures that Circle objects are properly initialized with a Point object for center and a numeric value for radius."
   ]
  },
  {
   "cell_type": "code",
   "execution_count": null,
   "metadata": {},
   "outputs": [],
   "source": []
  }
 ],
 "metadata": {
  "kernelspec": {
   "display_name": "Python 3",
   "language": "python",
   "name": "python3"
  },
  "language_info": {
   "codemirror_mode": {
    "name": "ipython",
    "version": 3
   },
   "file_extension": ".py",
   "mimetype": "text/x-python",
   "name": "python",
   "nbconvert_exporter": "python",
   "pygments_lexer": "ipython3",
   "version": "3.7.3"
  }
 },
 "nbformat": 4,
 "nbformat_minor": 2
}
