{
 "cells": [
  {
   "cell_type": "code",
   "execution_count": null,
   "metadata": {},
   "outputs": [],
   "source": [
    "# Exercise 15.1.2. Instantiate a Circle object that represents a circle with its center at (150, 100) and radius 75.\n",
    "Write a function named point_in_circle that takes a Circle and a Point and returns True if the\n",
    "Point lies in or on the boundary of the circle."
   ]
  },
  {
   "cell_type": "code",
   "execution_count": 1,
   "metadata": {},
   "outputs": [
    {
     "name": "stdout",
     "output_type": "stream",
     "text": [
      "True\n"
     ]
    }
   ],
   "source": [
    "# To instantiate a Circle object that represents a circle with its center at (150, 100) and radius 75 and write a function named point_in_circle that takes a Circle and a Point and returns True if the Point lies in or on the boundary of the circle\n",
    "\n",
    "\n",
    "import math\n",
    "\n",
    "class Point:\n",
    "    def __init__(self, x=0, y=0):\n",
    "        self.x = x\n",
    "        self.y = y\n",
    "\n",
    "class Circle:\n",
    "    def __init__(self, center, radius):\n",
    "        self.center = center\n",
    "        self.radius = radius\n",
    "\n",
    "def point_in_circle(circle, point):\n",
    "    distance = math.sqrt((point.x - circle.center.x)**2 + (point.y - circle.center.y)**2)\n",
    "    if distance <= circle.radius:\n",
    "        return True\n",
    "    else:\n",
    "        return False\n",
    "\n",
    "# Instantiate a Circle object\n",
    "c = Circle(Point(150, 100), 75)\n",
    "\n",
    "# Test the point_in_circle function with a Point object\n",
    "p = Point(175, 125)\n",
    "print(point_in_circle(c, p))\n",
    "\n",
    "\n",
    "# This code first defines a Point class with x and y coordinates. Then, a Circle class is defined with attributes center and radius, where center is a Point object and radius is a numeric value. The point_in_circle function takes a Circle and a Point as inputs, and returns True if the Point lies in or on the boundary of the circle. The function calculates the distance between the input Point and the center of the Circle using the Pythagorean theorem, and compares it to the r\n",
    "\n",
    "# Finally, a Circle object is instantiated with center (150, 100) and radius 75, and the point_in_circle function is tested with a Point object (175, 125), which should return True.\n",
    "\n"
   ]
  },
  {
   "cell_type": "code",
   "execution_count": null,
   "metadata": {},
   "outputs": [],
   "source": []
  }
 ],
 "metadata": {
  "kernelspec": {
   "display_name": "Python 3",
   "language": "python",
   "name": "python3"
  },
  "language_info": {
   "codemirror_mode": {
    "name": "ipython",
    "version": 3
   },
   "file_extension": ".py",
   "mimetype": "text/x-python",
   "name": "python",
   "nbconvert_exporter": "python",
   "pygments_lexer": "ipython3",
   "version": "3.7.3"
  }
 },
 "nbformat": 4,
 "nbformat_minor": 2
}
