{
 "cells": [
  {
   "cell_type": "code",
   "execution_count": null,
   "metadata": {},
   "outputs": [],
   "source": [
    "# Exercise 10.2. Write a function called cumsum that takes a list of numbers and returns the cumu-\n",
    "# lative sum; that is, a new list where the ith element is the sum of the first i + 1 elements from the\n",
    "# original list. For example:\n",
    "# >>> t = [1, 2, 3]\n",
    "# >>> cumsum(t)\n",
    "# [1, 3, 6]"
   ]
  },
  {
   "cell_type": "code",
   "execution_count": 1,
   "metadata": {},
   "outputs": [],
   "source": [
    "def cumsum(lst):\n",
    "    cum_sum = []\n",
    "    total = 0\n",
    "    for num in lst:\n",
    "        total += num\n",
    "        cum_sum.append(total)\n",
    "    return cum_sum"
   ]
  },
  {
   "cell_type": "code",
   "execution_count": null,
   "metadata": {},
   "outputs": [],
   "source": [
    "# We initialize an empty list cum_sum to hold the cumulative sums. We also initialize a variable total to keep track of the sum of the numbers seen so far. Then, we iterate over each element in the input list lst, add it to total, and append the current value of total to cum_sum. Finally, we return cum_sum, which contains the cumulative sums."
   ]
  },
  {
   "cell_type": "code",
   "execution_count": 2,
   "metadata": {},
   "outputs": [
    {
     "name": "stdout",
     "output_type": "stream",
     "text": [
      "[1, 3, 6]\n"
     ]
    }
   ],
   "source": [
    "t = [1, 2, 3]\n",
    "print(cumsum(t))"
   ]
  },
  {
   "cell_type": "code",
   "execution_count": null,
   "metadata": {},
   "outputs": [],
   "source": []
  }
 ],
 "metadata": {
  "kernelspec": {
   "display_name": "Python 3",
   "language": "python",
   "name": "python3"
  },
  "language_info": {
   "codemirror_mode": {
    "name": "ipython",
    "version": 3
   },
   "file_extension": ".py",
   "mimetype": "text/x-python",
   "name": "python",
   "nbconvert_exporter": "python",
   "pygments_lexer": "ipython3",
   "version": "3.7.3"
  }
 },
 "nbformat": 4,
 "nbformat_minor": 2
}
