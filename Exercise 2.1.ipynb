{
 "cells": [
  {
   "cell_type": "markdown",
   "id": "b951852e",
   "metadata": {},
   "source": [
    "# Are these Assignments Legal in Python?"
   ]
  },
  {
   "cell_type": "markdown",
   "id": "5b41e189",
   "metadata": {},
   "source": [
    "#(a)"
   ]
  },
  {
   "cell_type": "code",
   "execution_count": 1,
   "id": "d8a1f4bb",
   "metadata": {},
   "outputs": [
    {
     "ename": "SyntaxError",
     "evalue": "cannot assign to literal here. Maybe you meant '==' instead of '='? (3090476294.py, line 1)",
     "output_type": "error",
     "traceback": [
      "\u001b[0;36m  File \u001b[0;32m\"/tmp/ipykernel_14574/3090476294.py\"\u001b[0;36m, line \u001b[0;32m1\u001b[0m\n\u001b[0;31m    42 = n\u001b[0m\n\u001b[0m    ^\u001b[0m\n\u001b[0;31mSyntaxError\u001b[0m\u001b[0;31m:\u001b[0m cannot assign to literal here. Maybe you meant '==' instead of '='?\n"
     ]
    }
   ],
   "source": [
    "42 = n"
   ]
  },
  {
   "cell_type": "code",
   "execution_count": null,
   "id": "6d6e4aeb",
   "metadata": {},
   "outputs": [],
   "source": [
    "# 42=n is illegal. We cannot assign a variable to a constant n. We can assign a constant n value to a variable 42."
   ]
  },
  {
   "cell_type": "markdown",
   "id": "5f40c3e4",
   "metadata": {},
   "source": [
    "#(b)"
   ]
  },
  {
   "cell_type": "code",
   "execution_count": 13,
   "id": "6355ab64",
   "metadata": {},
   "outputs": [],
   "source": [
    "a = b = 1  # This is legal and will assign value 1 to both b and b."
   ]
  },
  {
   "cell_type": "markdown",
   "id": "b49c0248",
   "metadata": {},
   "source": [
    "#(c)"
   ]
  },
  {
   "cell_type": "code",
   "execution_count": 10,
   "id": "39d3d5e6",
   "metadata": {},
   "outputs": [],
   "source": [
    "v = 5;  # In python, we do not use semicolons, but it is not resctricted. Python does not use a semicolon to \n",
    "          denote the end of the line.A semicolon is legal if you are including more than one statement on a line.\n",
    "          Multiple statements on one line may include semicolons as separators."
   ]
  },
  {
   "cell_type": "markdown",
   "id": "d2ba7347",
   "metadata": {},
   "source": [
    "(d)"
   ]
  },
  {
   "cell_type": "code",
   "execution_count": 4,
   "id": "9efce2a6",
   "metadata": {},
   "outputs": [],
   "source": [
    "x = 58.  # For the period, it depends on the type of statement in which period is added. In this case it works."
   ]
  },
  {
   "cell_type": "code",
   "execution_count": 18,
   "id": "449a83cc",
   "metadata": {},
   "outputs": [],
   "source": [
    "z = 30"
   ]
  },
  {
   "cell_type": "code",
   "execution_count": 19,
   "id": "4a655e43",
   "metadata": {},
   "outputs": [
    {
     "ename": "SyntaxError",
     "evalue": "invalid syntax (2976653638.py, line 1)",
     "output_type": "error",
     "traceback": [
      "\u001b[0;36m  File \u001b[0;32m\"/tmp/ipykernel_14574/2976653638.py\"\u001b[0;36m, line \u001b[0;32m1\u001b[0m\n\u001b[0;31m    print(z).\u001b[0m\n\u001b[0m             ^\u001b[0m\n\u001b[0;31mSyntaxError\u001b[0m\u001b[0;31m:\u001b[0m invalid syntax\n"
     ]
    }
   ],
   "source": [
    "print(z).  # For all other statement types, we must not use periods otherwise python will return an error as shown"
   ]
  },
  {
   "cell_type": "code",
   "execution_count": 5,
   "id": "57f18bd0",
   "metadata": {},
   "outputs": [
    {
     "name": "stdout",
     "output_type": "stream",
     "text": [
      "58.0\n"
     ]
    }
   ],
   "source": [
    "print(x)  # However, print(x) returns a float 58.0 and x=58 returns and integer on print(). "
   ]
  },
  {
   "cell_type": "code",
   "execution_count": null,
   "id": "2f12fd0c",
   "metadata": {},
   "outputs": [],
   "source": [
    "# A period should not be used for other statement types, otherwise python will return an error."
   ]
  },
  {
   "cell_type": "markdown",
   "id": "f8daa4fb",
   "metadata": {},
   "source": [
    "#(e)"
   ]
  },
  {
   "cell_type": "code",
   "execution_count": 14,
   "id": "742bf432",
   "metadata": {},
   "outputs": [],
   "source": [
    "cd = 4"
   ]
  },
  {
   "cell_type": "code",
   "execution_count": 16,
   "id": "3ccd0be1",
   "metadata": {},
   "outputs": [
    {
     "ename": "NameError",
     "evalue": "name 'c' is not defined",
     "output_type": "error",
     "traceback": [
      "\u001b[0;31m---------------------------------------------------------------------------\u001b[0m",
      "\u001b[0;31mNameError\u001b[0m                                 Traceback (most recent call last)",
      "\u001b[0;32m/tmp/ipykernel_14574/2743823995.py\u001b[0m in \u001b[0;36m<module>\u001b[0;34m\u001b[0m\n\u001b[0;32m----> 1\u001b[0;31m \u001b[0mprint\u001b[0m\u001b[0;34m(\u001b[0m\u001b[0mc\u001b[0m\u001b[0;34m)\u001b[0m\u001b[0;34m\u001b[0m\u001b[0;34m\u001b[0m\u001b[0m\n\u001b[0m",
      "\u001b[0;31mNameError\u001b[0m: name 'c' is not defined"
     ]
    }
   ],
   "source": [
    "print(c)"
   ]
  },
  {
   "cell_type": "code",
   "execution_count": null,
   "id": "b0515ca3",
   "metadata": {},
   "outputs": [],
   "source": [
    "#  NameError: name not defined error will be returned because python cannot interpret xy because it would interpret \n",
    "   xy a a single variable."
   ]
  }
 ],
 "metadata": {
  "kernelspec": {
   "display_name": "Python 3 (ipykernel)",
   "language": "python",
   "name": "python3"
  },
  "language_info": {
   "codemirror_mode": {
    "name": "ipython",
    "version": 3
   },
   "file_extension": ".py",
   "mimetype": "text/x-python",
   "name": "python",
   "nbconvert_exporter": "python",
   "pygments_lexer": "ipython3",
   "version": "3.10.4"
  }
 },
 "nbformat": 4,
 "nbformat_minor": 5
}
