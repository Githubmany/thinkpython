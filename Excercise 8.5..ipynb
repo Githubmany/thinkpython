{
 "cells": [
  {
   "cell_type": "code",
   "execution_count": null,
   "metadata": {},
   "outputs": [],
   "source": [
    "# To answer the query, one can write a Python function that rotates a word by a fixed number of places."
   ]
  },
  {
   "cell_type": "code",
   "execution_count": 1,
   "metadata": {},
   "outputs": [],
   "source": [
    "def rotate_word(word, n):\n",
    "    \"\"\"\n",
    "    Rotates the letters in a word by a fixed number of places.\n",
    "\n",
    "    Arguments:\n",
    "    word -- the word to rotate\n",
    "    n -- the number of places to rotate the letters by\n",
    "\n",
    "    Returns:\n",
    "    A new string that contains the letters from the original string rotated by the given amount.\n",
    "    \"\"\"\n",
    "    rotated = \"\"\n",
    "    for letter in word:\n",
    "        rotated_letter = chr((ord(letter) - ord('a') + n) % 26 + ord('a'))\n",
    "        rotated += rotated_letter\n",
    "    return rotated"
   ]
  },
  {
   "cell_type": "code",
   "execution_count": null,
   "metadata": {},
   "outputs": [],
   "source": [
    "# The rotate_word function takes two parameters: word, which is the word to rotate, and n, which is the number of places to rotate the letters by. The function returns a new string that contains the letters from the original string rotated by the given amount.\n",
    "\n",
    "# The function works by iterating over each letter in the word and rotating it by n places using the ord and chr functions. The ord function returns the numeric code for a given character, and the chr function returns the character for a given numeric code. The expression (ord(letter) - ord('a') + n) % 26 + ord('a') calculates the new numeric code for the rotated letter, taking into account the wraparound that occurs when rotating past the end of the alphabet. The expression (ord('a') - ord('a') + n) % 26 + ord('a') calculates the numeric code for the first letter of the alphabet (i.e., 'a') after rotation."
   ]
  },
  {
   "cell_type": "code",
   "execution_count": null,
   "metadata": {},
   "outputs": [],
   "source": [
    "# Below is an example of how to use the rotate_word function:\n",
    "\n"
   ]
  },
  {
   "cell_type": "code",
   "execution_count": null,
   "metadata": {},
   "outputs": [],
   "source": [
    "# >>> rotate_word(\"cheer\", 7)\n",
    "# 'jolly'\n",
    "# >>> rotate_word(\"melon\", -10)\n",
    "# 'cubed'\n",
    "# >>> rotate_word(\"HAL\", -1)\n",
    "# 'GZK'\n",
    "\n",
    "#In the movie \"2001: A Space Odyssey,\" the ship computer is called HAL, which is IBM rotated by -1. When using the rotate_word function with the input \"HAL\" and -1, the output is \"GZK.\" This is because the rotate_word function treats the letters as lowercase, so 'H' is treated as 'h' and rotated to 'g', 'A' is treated as 'a' and rotated to 'z', and 'L' is treated as 'l' and rotated to 'k'."
   ]
  }
 ],
 "metadata": {
  "kernelspec": {
   "display_name": "Python 3",
   "language": "python",
   "name": "python3"
  },
  "language_info": {
   "codemirror_mode": {
    "name": "ipython",
    "version": 3
   },
   "file_extension": ".py",
   "mimetype": "text/x-python",
   "name": "python",
   "nbconvert_exporter": "python",
   "pygments_lexer": "ipython3",
   "version": "3.7.3"
  }
 },
 "nbformat": 4,
 "nbformat_minor": 2
}
