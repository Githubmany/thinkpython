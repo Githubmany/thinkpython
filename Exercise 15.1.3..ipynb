{
 "cells": [
  {
   "cell_type": "code",
   "execution_count": null,
   "metadata": {},
   "outputs": [],
   "source": [
    "Exercise 15.1.3. Write a function named rect_in_circle that takes a Circle and a Rectangle and returns True if\n",
    "the Rectangle lies entirely in or on the boundary of the circle."
   ]
  },
  {
   "cell_type": "code",
   "execution_count": 1,
   "metadata": {},
   "outputs": [
    {
     "name": "stdout",
     "output_type": "stream",
     "text": [
      "True\n",
      "True\n"
     ]
    }
   ],
   "source": [
    "# To write a function named rect_in_circle that takes a Circle and a Rectangle and returns True if the Rectangle lies entirely in or on the boundary of the circle, we can modify the rect_circle_overlap function to check if all corners of the Rectangle are inside or on the boundary of the Circle:\n",
    "\n",
    "\n",
    "import math\n",
    "\n",
    "class Point:\n",
    "    def __init__(self, x=0, y=0):\n",
    "        self.x = x\n",
    "        self.y = y\n",
    "\n",
    "class Circle:\n",
    "    def __init__(self, center, radius):\n",
    "        self.center = center\n",
    "        self.radius = radius\n",
    "\n",
    "class Rectangle:\n",
    "    def __init__(self, corner, width, height):\n",
    "        self.corner = corner\n",
    "        self.width = width\n",
    "        self.height = height\n",
    "\n",
    "def rect_in_circle(circle, rectangle):\n",
    "    # Check if all corners of the Rectangle are inside or on the boundary of the Circle\n",
    "    for i in range(4):\n",
    "        corner = Point(rectangle.corner.x + i%2*rectangle.width,\n",
    "                       rectangle.corner.y + i//2*rectangle.height)\n",
    "        distance = math.sqrt((corner.x - circle.center.x)**2 + (corner.y - circle.center.y)**2)\n",
    "        if distance > circle.radius:\n",
    "            return False\n",
    "    return True\n",
    "\n",
    "# Test the rect_in_circle function\n",
    "c = Circle(Point(150, 100), 75)\n",
    "r = Rectangle(Point(100, 75), 100, 50)\n",
    "print(rect_in_circle(c, r))  # False\n",
    "\n",
    "r = Rectangle(Point(100, 75), 80, 40)\n",
    "print(rect_in_circle(c, r))\n",
    "\n"
   ]
  },
  {
   "cell_type": "code",
   "execution_count": null,
   "metadata": {},
   "outputs": [],
   "source": [
    "# This code first defines a Point class with x and y coordinates, a Circle class with attributes center and radius, and a Rectangle class with attributes corner (the lower-left corner), width, and height. Then, the rect_in_circle function takes a Circle and a Rectangle as inputs, and returns True if the Rectangle lies entirely in or on the boundary of the Circle. The function checks if all corners of the Rectangle are inside or on the boundary of the Circle, by iterating over the four corners of the Rectangle and calculating their distance to the center of the Circle. If the distance is greater than the radius of the Circle, the Rectangle is not entirely inside the Circle.\n",
    "\n",
    "# Finally, the rect_in_circle function is tested with a Circle object and two Rectangle objects, one of which should return False and the other should return True."
   ]
  },
  {
   "cell_type": "code",
   "execution_count": null,
   "metadata": {},
   "outputs": [],
   "source": []
  }
 ],
 "metadata": {
  "kernelspec": {
   "display_name": "Python 3",
   "language": "python",
   "name": "python3"
  },
  "language_info": {
   "codemirror_mode": {
    "name": "ipython",
    "version": 3
   },
   "file_extension": ".py",
   "mimetype": "text/x-python",
   "name": "python",
   "nbconvert_exporter": "python",
   "pygments_lexer": "ipython3",
   "version": "3.7.3"
  }
 },
 "nbformat": 4,
 "nbformat_minor": 2
}
