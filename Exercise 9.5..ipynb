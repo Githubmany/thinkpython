{
 "cells": [
  {
   "cell_type": "code",
   "execution_count": null,
   "metadata": {},
   "outputs": [],
   "source": [
    "# Exercise 9.5. Write a function named uses_all that takes a word and a string of required letters,\n",
    "and that returns True if the word uses all the required letters at least once. How many words are\n",
    "there that use all the vowels aeiou? How about aeiouy?"
   ]
  },
  {
   "cell_type": "code",
   "execution_count": null,
   "metadata": {},
   "outputs": [],
   "source": [
    "# The function named \"uses_all\" takes a word and a string of required letters and returns True if the word uses all the required letters at least once. "
   ]
  },
  {
   "cell_type": "code",
   "execution_count": null,
   "metadata": {},
   "outputs": [],
   "source": [
    "def uses_all(word, required):\n",
    "    for letter in required:\n",
    "        if letter not in word:\n",
    "            return False\n",
    "    return True"
   ]
  },
  {
   "cell_type": "code",
   "execution_count": null,
   "metadata": {},
   "outputs": [],
   "source": [
    "# To use this function to count the number of words that use all the vowels aeiou, we can open the \"words.txt\" file and loop through each word in the file, checking if it uses all the vowels:"
   ]
  },
  {
   "cell_type": "code",
   "execution_count": null,
   "metadata": {},
   "outputs": [],
   "source": [
    "fin = open('words.txt')\n",
    "count = 0\n",
    "for line in fin:\n",
    "    word = line.strip()\n",
    "    if uses_all(word, 'aeiou'):\n",
    "        count += 1\n",
    "print(count)"
   ]
  },
  {
   "cell_type": "code",
   "execution_count": null,
   "metadata": {},
   "outputs": [],
   "source": [
    "# To count the number of words that use all the letters aeiouy, we can use the same code but with the required string set to 'aeiouy':"
   ]
  },
  {
   "cell_type": "code",
   "execution_count": null,
   "metadata": {},
   "outputs": [],
   "source": [
    "fin = open('words.txt')\n",
    "count = 0\n",
    "for line in fin:\n",
    "    word = line.strip()\n",
    "    if uses_all(word, 'aeiouy'):\n",
    "        count += 1\n",
    "print(count) \n",
    "\n",
    "#  Assume that the \"words.txt\" file contains one word per line, with no additional characters.\n",
    "\n",
    "\n",
    "\n",
    "\n",
    "\n"
   ]
  }
 ],
 "metadata": {
  "kernelspec": {
   "display_name": "Python 3",
   "language": "python",
   "name": "python3"
  },
  "language_info": {
   "codemirror_mode": {
    "name": "ipython",
    "version": 3
   },
   "file_extension": ".py",
   "mimetype": "text/x-python",
   "name": "python",
   "nbconvert_exporter": "python",
   "pygments_lexer": "ipython3",
   "version": "3.7.3"
  }
 },
 "nbformat": 4,
 "nbformat_minor": 2
}
