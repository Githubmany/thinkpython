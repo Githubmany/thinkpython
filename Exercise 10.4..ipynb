{
 "cells": [
  {
   "cell_type": "code",
   "execution_count": null,
   "metadata": {},
   "outputs": [],
   "source": [
    "# Exercise 10.4. Write a function called chop that takes a list, modifies it by removing the first and\n",
    "# last elements, and returns None. For example:\n",
    "# >>> t = [1, 2, 3, 4]\n",
    "# >>> chop(t)\n",
    "# >>> t\n",
    "# [2, 3]"
   ]
  },
  {
   "cell_type": "code",
   "execution_count": null,
   "metadata": {},
   "outputs": [],
   "source": [
    "# To write a function called chop that removes the first and last elements from a list and returns None, you can use the following code: \n",
    "\n",
    "def chop(lst):\n",
    "    del lst[0]\n",
    "    del lst[-1] \n",
    "    \n",
    "# 'del' is used to remove the first element of the list (lst[0]) and the last element of the list (lst[-1]). The function doesn't return anything explicitly, but modifies the original list lst.\n"
   ]
  },
  {
   "cell_type": "code",
   "execution_count": null,
   "metadata": {},
   "outputs": [],
   "source": []
  },
  {
   "cell_type": "code",
   "execution_count": null,
   "metadata": {},
   "outputs": [],
   "source": [
    "\n",
    "\n",
    "# To test this function, you can create a list and pass it to the chop function:\n",
    "t = [1, 2, 3, 4]\n",
    "chop(t)\n",
    "print(t)\n",
    "\n",
    "# This will output [2, 3], which is the list with the first and last elements removed.\n"
   ]
  },
  {
   "cell_type": "code",
   "execution_count": null,
   "metadata": {},
   "outputs": [],
   "source": []
  }
 ],
 "metadata": {
  "kernelspec": {
   "display_name": "Python 3",
   "language": "python",
   "name": "python3"
  },
  "language_info": {
   "codemirror_mode": {
    "name": "ipython",
    "version": 3
   },
   "file_extension": ".py",
   "mimetype": "text/x-python",
   "name": "python",
   "nbconvert_exporter": "python",
   "pygments_lexer": "ipython3",
   "version": "3.7.3"
  }
 },
 "nbformat": 4,
 "nbformat_minor": 2
}
