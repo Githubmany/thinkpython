{
 "cells": [
  {
   "cell_type": "code",
   "execution_count": null,
   "metadata": {},
   "outputs": [],
   "source": [
    "# Exercise 16.1.2. Then use mul_time to write a function that takes a Time object that represents the finishing time\n",
    "# in a race, and a number that represents the distance, and returns a Time object that represents the\n",
    "# average pace (time per mile)."
   ]
  },
  {
   "cell_type": "code",
   "execution_count": 1,
   "metadata": {},
   "outputs": [],
   "source": [
    "# Using this mul_time function, one can write another function that takes a Time object representing the finishing time in a race and a number representing the distance and returns a Time object representing the average pace (time per mile).\n",
    "\n",
    "\n",
    "def pace(finishing_time, distance):\n",
    "    \"\"\"Compute the average pace (time per mile) given a finishing time and a distance.\"\"\"\n",
    "    total_time = mul_time(finishing_time, 1/distance)  # Total time for the race\n",
    "    pace_time = mul_time(total_time, 1/distance)  # Time per mile\n",
    "    return pace_time\n",
    "\n",
    "\n",
    "# Above, the pace function first computes the total time for the race by multiplying the finishing time with the reciprocal of the distance using the mul_time function. Then it computes the time per mile by dividing the total time by the distance using mul_time again. Finally, it returns the computed pace time."
   ]
  },
  {
   "cell_type": "code",
   "execution_count": null,
   "metadata": {},
   "outputs": [],
   "source": []
  },
  {
   "cell_type": "code",
   "execution_count": null,
   "metadata": {},
   "outputs": [],
   "source": []
  }
 ],
 "metadata": {
  "kernelspec": {
   "display_name": "Python 3",
   "language": "python",
   "name": "python3"
  },
  "language_info": {
   "codemirror_mode": {
    "name": "ipython",
    "version": 3
   },
   "file_extension": ".py",
   "mimetype": "text/x-python",
   "name": "python",
   "nbconvert_exporter": "python",
   "pygments_lexer": "ipython3",
   "version": "3.7.3"
  }
 },
 "nbformat": 4,
 "nbformat_minor": 2
}
