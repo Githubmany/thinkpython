{
 "cells": [
  {
   "cell_type": "markdown",
   "id": "1ad2f73e",
   "metadata": {},
   "source": [
    "# Practice using the Python interpreter as a calculator"
   ]
  },
  {
   "cell_type": "markdown",
   "id": "64fe31b4",
   "metadata": {},
   "source": [
    "# 1. The volume of a sphere with radius r is 34 πr3 . What is the volume of a sphere with radius 5?"
   ]
  },
  {
   "cell_type": "code",
   "execution_count": 1,
   "id": "e1212e86",
   "metadata": {},
   "outputs": [],
   "source": [
    "r = 5"
   ]
  },
  {
   "cell_type": "code",
   "execution_count": 2,
   "id": "6d440801",
   "metadata": {},
   "outputs": [],
   "source": [
    "pi = 3.1415926535897932"
   ]
  },
  {
   "cell_type": "code",
   "execution_count": 3,
   "id": "d37f71fd",
   "metadata": {},
   "outputs": [],
   "source": [
    "v = 4/3*pi*r**3"
   ]
  },
  {
   "cell_type": "code",
   "execution_count": 4,
   "id": "8fa7b9f1",
   "metadata": {},
   "outputs": [
    {
     "name": "stdout",
     "output_type": "stream",
     "text": [
      "523.5987755982989\n"
     ]
    }
   ],
   "source": [
    "print(v)"
   ]
  },
  {
   "cell_type": "markdown",
   "id": "97b76080",
   "metadata": {},
   "source": [
    "# 2. Suppose the cover price of a book is 24.95, but bookstores get a 40% discount. Shipping cost 3 dollars for the first copy and 75 cents for each additional copy. What is the total wholesale cost for 60 copies?"
   ]
  },
  {
   "cell_type": "code",
   "execution_count": 56,
   "id": "832772ed",
   "metadata": {},
   "outputs": [],
   "source": [
    "total_cost = (no_discount-discount)+shipping_total"
   ]
  },
  {
   "cell_type": "code",
   "execution_count": 57,
   "id": "185fcf31",
   "metadata": {},
   "outputs": [],
   "source": [
    "no_discount = 24.95*60"
   ]
  },
  {
   "cell_type": "code",
   "execution_count": 58,
   "id": "91fddefa",
   "metadata": {},
   "outputs": [],
   "source": [
    "discount = (24.95*60)*40/100"
   ]
  },
  {
   "cell_type": "code",
   "execution_count": 59,
   "id": "ba7d2abf",
   "metadata": {},
   "outputs": [],
   "source": [
    "no_discount_shipping1 = 3"
   ]
  },
  {
   "cell_type": "code",
   "execution_count": 60,
   "id": "f1de61b7",
   "metadata": {},
   "outputs": [],
   "source": [
    "discount_shipping59 = (75*59)/100"
   ]
  },
  {
   "cell_type": "code",
   "execution_count": 61,
   "id": "d85c7266",
   "metadata": {},
   "outputs": [],
   "source": [
    "shipping_total = no_discount_shipping1+discount_shipping59"
   ]
  },
  {
   "cell_type": "code",
   "execution_count": 62,
   "id": "f87ebbaf",
   "metadata": {},
   "outputs": [
    {
     "name": "stdout",
     "output_type": "stream",
     "text": [
      "945.45\n"
     ]
    }
   ],
   "source": [
    "print(total_cost)"
   ]
  },
  {
   "cell_type": "markdown",
   "id": "fb4df9c2",
   "metadata": {},
   "source": [
    "# 3. If I leave my house at 6:52 am and run 1 mile at an easy pace (8:15 per mile), then 3 miles at tempo (7:12 per mile) and 1 mile at easy pace again, what time do I get home for breakfast?"
   ]
  },
  {
   "cell_type": "code",
   "execution_count": 95,
   "id": "bac8f32a",
   "metadata": {},
   "outputs": [],
   "source": [
    "t1 = (8*60+15)"
   ]
  },
  {
   "cell_type": "code",
   "execution_count": 96,
   "id": "2dcc4167",
   "metadata": {},
   "outputs": [],
   "source": [
    "t2 = (7*60+12)*3"
   ]
  },
  {
   "cell_type": "code",
   "execution_count": 97,
   "id": "ffdb5f4c",
   "metadata": {},
   "outputs": [],
   "source": [
    "t3 = (8*60+15)"
   ]
  },
  {
   "cell_type": "code",
   "execution_count": 98,
   "id": "ae77f5c8",
   "metadata": {},
   "outputs": [
    {
     "name": "stdout",
     "output_type": "stream",
     "text": [
      "2286\n"
     ]
    }
   ],
   "source": [
    "print(t1+t2+t3)"
   ]
  },
  {
   "cell_type": "code",
   "execution_count": 103,
   "id": "8214ef9a",
   "metadata": {},
   "outputs": [],
   "source": [
    "time_taken = (t1+t2+t3)/60"
   ]
  },
  {
   "cell_type": "code",
   "execution_count": 104,
   "id": "61f7157d",
   "metadata": {},
   "outputs": [
    {
     "name": "stdout",
     "output_type": "stream",
     "text": [
      "38.1\n"
     ]
    }
   ],
   "source": [
    "print(time_taken)"
   ]
  },
  {
   "cell_type": "code",
   "execution_count": null,
   "id": "57230a4f",
   "metadata": {},
   "outputs": [],
   "source": [
    "# Get home time 6.52 + 38.1 minutes = 7.31am"
   ]
  }
 ],
 "metadata": {
  "kernelspec": {
   "display_name": "Python 3 (ipykernel)",
   "language": "python",
   "name": "python3"
  },
  "language_info": {
   "codemirror_mode": {
    "name": "ipython",
    "version": 3
   },
   "file_extension": ".py",
   "mimetype": "text/x-python",
   "name": "python",
   "nbconvert_exporter": "python",
   "pygments_lexer": "ipython3",
   "version": "3.10.4"
  }
 },
 "nbformat": 4,
 "nbformat_minor": 5
}
