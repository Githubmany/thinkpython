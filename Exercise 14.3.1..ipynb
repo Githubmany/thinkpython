{
 "cells": [
  {
   "cell_type": "code",
   "execution_count": null,
   "metadata": {},
   "outputs": [],
   "source": [
    "# Exercise 14.3. In a large collection of MP3 files, there may be more than one copy of the same song,\n",
    "# stored in different directories or with different file names. The goal of this exercise is to search for\n",
    "# duplicates.\n",
    "# 1. Write a program that searches a directory and all of its subdirectories, recursively, and returns\n",
    "# a list of complete paths for all files with a given suffix (like .mp3). Hint: os.path provides\n",
    "# several useful functions for manipulating file and path names."
   ]
  },
  {
   "cell_type": "code",
   "execution_count": 1,
   "metadata": {},
   "outputs": [],
   "source": [
    "# To write a program in Python that searches a directory and its subdirectories for files with a given suffix, you can use the os module, which provides several useful functions for file and path manipulation. You can use the os.walk() function to recursively iterate over all the files and directories in a given directory.\n",
    "\n",
    "\n",
    "import os\n",
    "\n",
    "def find_files_with_suffix(root_dir, suffix):\n",
    "    \"\"\"\n",
    "    Recursively searches a directory and its subdirectories for files with a given suffix.\n",
    "    Returns a list of complete paths for all matching files.\n",
    "    \"\"\"\n",
    "    matches = []\n",
    "    for root, dirnames, filenames in os.walk(root_dir):\n",
    "        for filename in filenames:\n",
    "            if filename.endswith(suffix):\n",
    "                matches.append(os.path.join(root, filename))\n",
    "    return matches\n"
   ]
  },
  {
   "cell_type": "code",
   "execution_count": null,
   "metadata": {},
   "outputs": [],
   "source": [
    "# To use this function, you can call it with the root directory and the suffix:\n",
    "\n",
    "mp3_files = find_files_with_suffix('/path/to/root/dir', '.mp3')\n",
    "\n",
    "\n",
    "# This will return a list of complete paths for all .mp3 files in the directory /path/to/root/dir and its subdirectories.\n",
    "# Note that in this implementation, the function returns a list of complete file paths for all files with the given suffix, but you can modify the code to perform other actions, such as deleting or renaming the duplicate files.\n",
    "\n",
    "\n"
   ]
  },
  {
   "cell_type": "code",
   "execution_count": null,
   "metadata": {},
   "outputs": [],
   "source": []
  }
 ],
 "metadata": {
  "kernelspec": {
   "display_name": "Python 3",
   "language": "python",
   "name": "python3"
  },
  "language_info": {
   "codemirror_mode": {
    "name": "ipython",
    "version": 3
   },
   "file_extension": ".py",
   "mimetype": "text/x-python",
   "name": "python",
   "nbconvert_exporter": "python",
   "pygments_lexer": "ipython3",
   "version": "3.7.3"
  }
 },
 "nbformat": 4,
 "nbformat_minor": 2
}
