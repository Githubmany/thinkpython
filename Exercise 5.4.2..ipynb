{
 "cells": [
  {
   "cell_type": "code",
   "execution_count": null,
   "metadata": {},
   "outputs": [],
   "source": [
    "def recurse(n, s):\n",
    "    '''Recursive function for getting and printing the value of s; n - positive integer; s - integer. '''\n",
    "\n",
    "    if n == 0:\n",
    "        print(s)\n",
    "    else:\n",
    "        recurse(n-1, n+s)\n",
    "'''\n",
    "__main__ : None\n",
    "recurse:\n",
    "    n ---> 3\n",
    "    s ---> 0\n",
    "'''"
   ]
  },
  {
   "cell_type": "code",
   "execution_count": null,
   "metadata": {},
   "outputs": [],
   "source": [
    "The docstring provides information on the purpose of the function and its arguments."
   ]
  },
  {
   "cell_type": "code",
   "execution_count": null,
   "metadata": {},
   "outputs": [],
   "source": [
    "# The docstring starts with a brief description of the function, stating that it is a recursive function for getting and printing the value of s. The next line provides information on the arguments that the function takes: n is a positive integer and s is an integer.\n",
    "\n",
    "Overall, the docstring is concise and to the point, providing the necessary information on the function's purpose and arguments without unnecessary details."
   ]
  }
 ],
 "metadata": {
  "kernelspec": {
   "display_name": "Python 3",
   "language": "python",
   "name": "python3"
  },
  "language_info": {
   "codemirror_mode": {
    "name": "ipython",
    "version": 3
   },
   "file_extension": ".py",
   "mimetype": "text/x-python",
   "name": "python",
   "nbconvert_exporter": "python",
   "pygments_lexer": "ipython3",
   "version": "3.7.3"
  }
 },
 "nbformat": 4,
 "nbformat_minor": 2
}
