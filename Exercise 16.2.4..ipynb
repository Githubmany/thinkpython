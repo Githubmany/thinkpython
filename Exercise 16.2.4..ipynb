{
 "cells": [
  {
   "cell_type": "code",
   "execution_count": null,
   "metadata": {},
   "outputs": [],
   "source": [
    "# Exercise 16.2.4 For a little more challenge, write the more general version that computes the day when one\n",
    "person is n times older than the other."
   ]
  },
  {
   "cell_type": "code",
   "execution_count": null,
   "metadata": {},
   "outputs": [],
   "source": [
    "# Firstly, you need to take as input the birth dates of the two individuals and compute their ages in years, months, and days. You can use the datetime module in Python to compute the difference between two dates in days. Once you have their ages, you can set up a loop that increments the number of days until the age difference is n times the number of days.\n",
    "\n",
    "# General pseudocode:\n",
    "\n",
    "# 1. Take as input the birth dates of the two individuals.\n",
    "# 2. Compute their ages in years, months, and days using the datetime module.\n",
    "# 3. Determine which person is younger and which person is older.\n",
    "# 4. Calculate the age difference in days.\n",
    "# 5. Set up a loop that increments the number of days until the age difference is n times the number of days.\n",
    "# 6. Print the date when one person is n times older than the other.\n"
   ]
  }
 ],
 "metadata": {
  "kernelspec": {
   "display_name": "Python 3",
   "language": "python",
   "name": "python3"
  },
  "language_info": {
   "codemirror_mode": {
    "name": "ipython",
    "version": 3
   },
   "file_extension": ".py",
   "mimetype": "text/x-python",
   "name": "python",
   "nbconvert_exporter": "python",
   "pygments_lexer": "ipython3",
   "version": "3.7.3"
  }
 },
 "nbformat": 4,
 "nbformat_minor": 2
}
