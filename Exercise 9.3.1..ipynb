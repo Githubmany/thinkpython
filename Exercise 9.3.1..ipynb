{
 "cells": [
  {
   "cell_type": "code",
   "execution_count": null,
   "metadata": {},
   "outputs": [],
   "source": [
    "# Exercise 9.3.1 Write a function named avoids that takes a word and a string of forbidden letters,\n",
    "and that returns True if the word doesn’t use any of the forbidden letters."
   ]
  },
  {
   "cell_type": "code",
   "execution_count": null,
   "metadata": {},
   "outputs": [],
   "source": [
    "The \"avoids\" function takes in two arguments, a string \"strg\" and a string \"word,\" and returns a boolean value. It checks whether any letter in the \"word\" string is present in the \"strg\" string. If a letter is present, the function returns False; otherwise, it returns True.# "
   ]
  },
  {
   "cell_type": "code",
   "execution_count": null,
   "metadata": {},
   "outputs": [],
   "source": [
    "def avoids(word, forbidden_letters):\n",
    "    for letter in word:\n",
    "        if letter in forbidden_letters:\n",
    "            return False\n",
    "    return True"
   ]
  },
  {
   "cell_type": "code",
   "execution_count": null,
   "metadata": {},
   "outputs": [],
   "source": [
    "# This implementation takes in two arguments, a string \"word\" and a string \"forbidden_letters,\" and returns a boolean value. It checks whether any letter in the \"word\" string is present in the \"forbidden_letters\" string. If a letter is present, the function returns False; otherwise, it returns True."
   ]
  }
 ],
 "metadata": {
  "kernelspec": {
   "display_name": "Python 3",
   "language": "python",
   "name": "python3"
  },
  "language_info": {
   "codemirror_mode": {
    "name": "ipython",
    "version": 3
   },
   "file_extension": ".py",
   "mimetype": "text/x-python",
   "name": "python",
   "nbconvert_exporter": "python",
   "pygments_lexer": "ipython3",
   "version": "3.7.3"
  }
 },
 "nbformat": 4,
 "nbformat_minor": 2
}
