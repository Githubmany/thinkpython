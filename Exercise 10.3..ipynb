{
 "cells": [
  {
   "cell_type": "code",
   "execution_count": null,
   "metadata": {},
   "outputs": [],
   "source": [
    "# Exercise 10.3. Write a function called middle that takes a list and returns a new list that contains\n",
    "# all but the first and last elements. For example:\n",
    "# >>> t = [1, 2, 3, 4]\n",
    "# >>> middle(t)\n",
    "# [2, 3] "
   ]
  },
  {
   "cell_type": "code",
   "execution_count": null,
   "metadata": {},
   "outputs": [],
   "source": [
    "# To write a function called middle in Python that takes a list and returns a new list containing all but the first and last elements, we can use Python's list slicing functionality. "
   ]
  },
  {
   "cell_type": "code",
   "execution_count": 1,
   "metadata": {},
   "outputs": [],
   "source": [
    "def middle(lst):\n",
    "    return lst[1:-1]"
   ]
  },
  {
   "cell_type": "code",
   "execution_count": null,
   "metadata": {},
   "outputs": [],
   "source": [
    "# Use list slicing to return a new list that starts from the second element (index 1) and ends at the second-to-last element (index -1). This excludes the first and last elements of the original list."
   ]
  },
  {
   "cell_type": "code",
   "execution_count": 2,
   "metadata": {},
   "outputs": [
    {
     "name": "stdout",
     "output_type": "stream",
     "text": [
      "[2, 3]\n"
     ]
    }
   ],
   "source": [
    "t = [1, 2, 3, 4]\n",
    "print(middle(t))"
   ]
  },
  {
   "cell_type": "code",
   "execution_count": null,
   "metadata": {},
   "outputs": [],
   "source": [
    "# Above, we passsed the list [1, 2, 3, 4] to the middle function and print the resulting list, which is [2, 3].\n",
    "# Note that if the input list has fewer than three elements, the function will return an empty list. If you want to handle this case differently, you can add a check for the length of the list before slicing it.\n"
   ]
  },
  {
   "cell_type": "code",
   "execution_count": null,
   "metadata": {},
   "outputs": [],
   "source": [
    "# If you want to return a list with unique elements, you can use the set data type in Python to remove duplicates. Here's an implementation of a function called unique_list that takes a list of numbers and returns a new list with unique elements:"
   ]
  },
  {
   "cell_type": "code",
   "execution_count": 5,
   "metadata": {},
   "outputs": [],
   "source": [
    "def unique_list(numbers):\n",
    "    unique_numbers = list(set(numbers))\n",
    "    return unique_numbers"
   ]
  },
  {
   "cell_type": "code",
   "execution_count": null,
   "metadata": {},
   "outputs": [],
   "source": [
    "# In the above code, we use the set function to remove duplicates from the input list, then convert the resulting set back to a list using the list function. Finally, we return the list of unique numbers."
   ]
  },
  {
   "cell_type": "code",
   "execution_count": 6,
   "metadata": {},
   "outputs": [
    {
     "name": "stdout",
     "output_type": "stream",
     "text": [
      "[2, 3]\n"
     ]
    }
   ],
   "source": [
    "t = [2, 2, 3, 3, 3]\n",
    "print(unique_list(t))"
   ]
  },
  {
   "cell_type": "code",
   "execution_count": null,
   "metadata": {},
   "outputs": [],
   "source": [
    "# Above, list '[1, 2, 3, 3, 3]' was passed to the unique_list function and print the resulting list, which is [2, 3]."
   ]
  }
 ],
 "metadata": {
  "kernelspec": {
   "display_name": "Python 3",
   "language": "python",
   "name": "python3"
  },
  "language_info": {
   "codemirror_mode": {
    "name": "ipython",
    "version": 3
   },
   "file_extension": ".py",
   "mimetype": "text/x-python",
   "name": "python",
   "nbconvert_exporter": "python",
   "pygments_lexer": "ipython3",
   "version": "3.7.3"
  }
 },
 "nbformat": 4,
 "nbformat_minor": 2
}
