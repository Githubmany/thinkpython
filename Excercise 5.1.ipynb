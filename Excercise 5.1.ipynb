{
 "cells": [
  {
   "cell_type": "code",
   "execution_count": null,
   "metadata": {},
   "outputs": [],
   "source": [
    "import time\n",
    "\n",
    "# get the current time in seconds since the epoch\n",
    "current_time = time.time()\n",
    "\n",
    "# calculate the number of days since the epoch\n",
    "days_since_epoch = int(current_time / 86400)\n",
    "\n",
    "# calculate the number of seconds since midnight\n",
    "seconds_since_midnight = int(current_time % 86400)\n",
    "\n",
    "# calculate the hours, minutes, and seconds\n",
    "hours = int(seconds_since_midnight / 3600)\n",
    "minutes = int((seconds_since_midnight % 3600) / 60)\n",
    "seconds = int(seconds_since_midnight % 60)\n",
    "\n",
    "# print the results\n",
    "print(\"Current time: {}:{}:{}\".format(hours, minutes, seconds))\n",
    "print(\"Days since epoch: {}\".format(days_since_epoch))"
   ]
  }
 ],
 "metadata": {
  "kernelspec": {
   "display_name": "Python 3",
   "language": "python",
   "name": "python3"
  },
  "language_info": {
   "codemirror_mode": {
    "name": "ipython",
    "version": 3
   },
   "file_extension": ".py",
   "mimetype": "text/x-python",
   "name": "python",
   "nbconvert_exporter": "python",
   "pygments_lexer": "ipython3",
   "version": "3.7.3"
  }
 },
 "nbformat": 4,
 "nbformat_minor": 2
}
