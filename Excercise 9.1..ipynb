{
 "cells": [
  {
   "cell_type": "code",
   "execution_count": 5,
   "metadata": {},
   "outputs": [],
   "source": [
    "def characterCount ():\n",
    "    fin = open (\"words.txt\")\n",
    "    for line in fin: words = line.strip () \n",
    "    if len (words) > 19:\n",
    "        print (words)"
   ]
  },
  {
   "cell_type": "code",
   "execution_count": null,
   "metadata": {},
   "outputs": [],
   "source": [
    "# The program defines a function named \"characterCount\" that opens the file \"words.txt\" using the \"open\" built-in function and then loops through each line of the file using a for loop. The \"strip\" method is used to remove any leading or trailing whitespace characters from each line. Then, an \"if\" statement checks whether the length of the current word is greater than 19 (not counting whitespace), and if it is, the word is printed using the \"print\" function.\n",
    "\n",
    "# To run this program, you need to create a text file named \"words.txt\" and store it in the same directory as the Python script. The \"words.txt\" file should contain a list of words separated by whitespace. Once you have created the file, you can call the \"characterCount\" function in your Python script to read and print the words with more than 20 characters."
   ]
  },
  {
   "cell_type": "code",
   "execution_count": null,
   "metadata": {},
   "outputs": [],
   "source": []
  }
 ],
 "metadata": {
  "kernelspec": {
   "display_name": "Python 3",
   "language": "python",
   "name": "python3"
  },
  "language_info": {
   "codemirror_mode": {
    "name": "ipython",
    "version": 3
   },
   "file_extension": ".py",
   "mimetype": "text/x-python",
   "name": "python",
   "nbconvert_exporter": "python",
   "pygments_lexer": "ipython3",
   "version": "3.7.3"
  }
 },
 "nbformat": 4,
 "nbformat_minor": 2
}
