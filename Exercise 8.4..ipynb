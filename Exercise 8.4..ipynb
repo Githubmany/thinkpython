{
 "cells": [
  {
   "cell_type": "code",
   "execution_count": 3,
   "metadata": {},
   "outputs": [],
   "source": [
    "def any_lowercase1(s):\n",
    "    for c in s:\n",
    "        if c.islower():\n",
    "            return True\n",
    "        else:\n",
    "            return False\n",
    "def any_lowercase2(s):\n",
    "    for c in s:\n",
    "        if 'c'.islower():\n",
    "            return 'True'\n",
    "        else:\n",
    "            return 'False'\n",
    "        \n",
    "def any_lowercase3(s):\n",
    "    for c in s:\n",
    "        flag = c.islower()\n",
    "    return flag\n",
    "\n",
    "def any_lowercase4(s):\n",
    "    flag = False\n",
    "    for c in s:\n",
    "        flag = flag or c.islower()\n",
    "    return flag\n",
    "\n",
    "def any_lowercase5(s):\n",
    "    for c in s:\n",
    "        if not c.islower():\n",
    "            return False\n",
    "    return True"
   ]
  },
  {
   "cell_type": "code",
   "execution_count": null,
   "metadata": {},
   "outputs": [],
   "source": [
    "# 1. any_lowercase1(s): This function uses a for loop to iterate over each character in the given string s. For each character, it checks if it is lowercase or not using the islower() method. If the character is lowercase, it returns True. If it is not lowercase, it returns False. However, the problem with this function is that it returns False as soon as it encounters the first uppercase character in the string, without checking the remaining characters. Therefore, this function doesn't work as expected for strings that contain both lowercase and uppercase letters [1].\n",
    "\n",
    "# 2. any_lowercase2(s): This function also uses a for loop to iterate over each character in the given string s. However, instead of using the islower() method to check if a character is lowercase or not, it uses the string 'c' and checks if it is lowercase using the islower() method. Since the string 'c' is always lowercase, this function always returns the string 'True'. Therefore, this function doesn't work as expected and always returns 'True' regardless of the string input [1].\n",
    "\n",
    "# 3. any_lowercase3(s): This function also uses a for loop to iterate over each character in the given string s. It assigns the result of the islower() method for each character to the flag variable. However, this function returns the value of the flag variable after checking the first character only. Therefore, this function doesn't work as expected and always returns the result of checking the first character only [1].\n",
    "\n",
    "# 4. any_lowercase4(s): This function initializes a boolean variable flag to False and then uses a for loop to iterate over each character in the given string s. For each character, it updates the flag variable to True if the character is lowercase using the islower() method. At the end of the loop, it returns the value of the flag variable. This function works as expected and returns True if the string contains at least one lowercase letter and False otherwise [1].\n",
    "\n",
    "# any_lowercase5(s): This function also uses a for loop to iterate over each character in the given string s. For each character, it checks if it is not lowercase using the islower() method. If it is not lowercase, it immediately returns False. If all characters are lowercase, it returns True. This function works as expected and returns True if the string contains only lowercase letters and False otherwise [1].\n",
    "\n",
    "# In summary, among the five provided functions, only any_lowercase4(s) and any_lowercase5(s) work as expected for their intended purpose of checking if a string contains any lowercase letters."
   ]
  }
 ],
 "metadata": {
  "kernelspec": {
   "display_name": "Python 3",
   "language": "python",
   "name": "python3"
  },
  "language_info": {
   "codemirror_mode": {
    "name": "ipython",
    "version": 3
   },
   "file_extension": ".py",
   "mimetype": "text/x-python",
   "name": "python",
   "nbconvert_exporter": "python",
   "pygments_lexer": "ipython3",
   "version": "3.7.3"
  }
 },
 "nbformat": 4,
 "nbformat_minor": 2
}
