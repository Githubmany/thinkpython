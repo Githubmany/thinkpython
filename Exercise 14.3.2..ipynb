{
 "cells": [
  {
   "cell_type": "code",
   "execution_count": null,
   "metadata": {},
   "outputs": [],
   "source": [
    "# Exercise 14.3.2. To recognize duplicates, you can use md5sum to compute a “checksum” for each files. If two\n",
    "# files have the same checksum, they probably have the same contents."
   ]
  },
  {
   "cell_type": "code",
   "execution_count": 1,
   "metadata": {},
   "outputs": [],
   "source": [
    "\n",
    "\n",
    "# We can use the hashlib module to compute the md5sum of a file. The following code demonstrates how to compute the md5sum of a file:\n",
    "\n",
    "import hashlib\n",
    "\n",
    "def compute_md5sum(filename):\n",
    "    with open(filename, 'rb') as f:\n",
    "        contents = f.read()\n",
    "        md5sum = hashlib.md5(contents).hexdigest()\n",
    "        return md5sum\n"
   ]
  },
  {
   "cell_type": "code",
   "execution_count": null,
   "metadata": {},
   "outputs": [],
   "source": [
    "This function takes a filename as input, opens the file in binary mode, reads its contents, computes the md5sum using the hashlib module, and returns the md5sum value as a string. By computing the md5sum values for all files in a directory and its subdirectories, one can easily identify duplicate files# "
   ]
  }
 ],
 "metadata": {
  "kernelspec": {
   "display_name": "Python 3",
   "language": "python",
   "name": "python3"
  },
  "language_info": {
   "codemirror_mode": {
    "name": "ipython",
    "version": 3
   },
   "file_extension": ".py",
   "mimetype": "text/x-python",
   "name": "python",
   "nbconvert_exporter": "python",
   "pygments_lexer": "ipython3",
   "version": "3.7.3"
  }
 },
 "nbformat": 4,
 "nbformat_minor": 2
}
