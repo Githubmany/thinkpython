{
 "cells": [
  {
   "cell_type": "code",
   "execution_count": null,
   "metadata": {},
   "outputs": [],
   "source": [
    "# Exercise 16.2.1  The datetime module provides time objects that are similar to the Time objects\n",
    "# in this chapter, but they provide a rich set of methods and operators. Read the documentation at\n",
    "# http: // docs. python. org/ 3/ library/ datetime. html .\n",
    "# Use the datetime module to write a program that gets the current date and prints the day of\n",
    "# the week."
   ]
  },
  {
   "cell_type": "code",
   "execution_count": 1,
   "metadata": {},
   "outputs": [
    {
     "name": "stdout",
     "output_type": "stream",
     "text": [
      "Today's date: 2023-03-17\n",
      "Today's day of the week: Friday\n"
     ]
    }
   ],
   "source": [
    "# Use the datetime module in Python to write a program that gets the current date and prints the day of the week.\n",
    "#use the date class of the datetime module.\n",
    "\n",
    "\n",
    "from datetime import datetime\n",
    "\n",
    "# Get today's date\n",
    "today = datetime.today()\n",
    "\n",
    "# Get the day of the week (Monday is 0 and Sunday is 6)\n",
    "day_of_week = today.weekday()\n",
    "\n",
    "# Create a list of days of the week\n",
    "days = ['Monday', 'Tuesday', 'Wednesday', 'Thursday', 'Friday', 'Saturday', 'Sunday']\n",
    "\n",
    "# Print the current day of the week\n",
    "print(\"Today's date:\", today.strftime('%Y-%m-%d'))\n",
    "print(\"Today's day of the week:\", days[day_of_week])\n",
    "\n"
   ]
  },
  {
   "cell_type": "code",
   "execution_count": null,
   "metadata": {},
   "outputs": [],
   "source": [
    "# In the code above, import the datetime module and use the datetime.today() method to get today's date. Then, we use the weekday() method to get the day of the week (where Monday is 0 and Sunday is 6), and create a list of days of the week. Finally, we print the current date and the corresponding day of the week using the strftime() method and the days list.\n",
    "\n",
    "# Executing the above code would output the current date and day of the week as per the system date and time."
   ]
  },
  {
   "cell_type": "code",
   "execution_count": null,
   "metadata": {},
   "outputs": [],
   "source": []
  }
 ],
 "metadata": {
  "kernelspec": {
   "display_name": "Python 3",
   "language": "python",
   "name": "python3"
  },
  "language_info": {
   "codemirror_mode": {
    "name": "ipython",
    "version": 3
   },
   "file_extension": ".py",
   "mimetype": "text/x-python",
   "name": "python",
   "nbconvert_exporter": "python",
   "pygments_lexer": "ipython3",
   "version": "3.7.3"
  }
 },
 "nbformat": 4,
 "nbformat_minor": 2
}
