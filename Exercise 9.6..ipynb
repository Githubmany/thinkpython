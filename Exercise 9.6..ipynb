{
 "cells": [
  {
   "cell_type": "code",
   "execution_count": null,
   "metadata": {},
   "outputs": [],
   "source": [
    "# Exercise 9.6. Write a function called is_abecedarian that returns True if the letters in a word\n",
    "appear in alphabetical order (double letters are ok). How many abecedarian words are there?"
   ]
  },
  {
   "cell_type": "code",
   "execution_count": null,
   "metadata": {},
   "outputs": [],
   "source": [
    "# To find out how many abecedarian words there are, we can use the words.txt file and the is_abecedarian() function. We can read the words.txt file using the open() method, iterate over each line in the file using a for loop, and check if each word is abecedarian using the is_abecedarian() function. If a word is abecedarian, we can print it and increment a counter variable count. Finally, we can print the value of count to get the total number of abecedarian words in the file."
   ]
  },
  {
   "cell_type": "code",
   "execution_count": null,
   "metadata": {},
   "outputs": [],
   "source": [
    "def is_abecedarian(word):\n",
    "    previous_letter = word[0]\n",
    "    for letter in word:\n",
    "        if ord(letter) < ord(previous_letter):\n",
    "            return False\n",
    "        previous_letter = letter\n",
    "    return True\n",
    "\n",
    "fin = open('words.txt')\n",
    "count = 0\n",
    "for line in fin:\n",
    "    word = line.strip()\n",
    "    if is_abecedarian(word):\n",
    "        print(word)\n",
    "        count += 1\n",
    "print(count)"
   ]
  },
  {
   "cell_type": "code",
   "execution_count": null,
   "metadata": {},
   "outputs": [],
   "source": [
    "\n",
    "# This program will print out all the abecedarian words in the words.txt file and then print the total count of abecedarian words at the end.\n",
    "# For the number of abecedarian words there are, you will have to run the program to find out, since the number may differ depending on the version of the words.txt file that you happen to have. \n"
   ]
  }
 ],
 "metadata": {
  "kernelspec": {
   "display_name": "Python 3",
   "language": "python",
   "name": "python3"
  },
  "language_info": {
   "codemirror_mode": {
    "name": "ipython",
    "version": 3
   },
   "file_extension": ".py",
   "mimetype": "text/x-python",
   "name": "python",
   "nbconvert_exporter": "python",
   "pygments_lexer": "ipython3",
   "version": "3.7.3"
  }
 },
 "nbformat": 4,
 "nbformat_minor": 2
}
