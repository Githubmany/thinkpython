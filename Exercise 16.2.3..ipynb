{
 "cells": [
  {
   "cell_type": "code",
   "execution_count": null,
   "metadata": {},
   "outputs": [],
   "source": [
    "# Exercise 16.2.3. For two people born on different days, there is a day when one is twice as old as the other.\n",
    "# That’s their Double Day. Write a program that takes two birth dates and computes their\n",
    "# Double Day."
   ]
  },
  {
   "cell_type": "code",
   "execution_count": 1,
   "metadata": {},
   "outputs": [
    {
     "name": "stdout",
     "output_type": "stream",
     "text": [
      "Person 1's age: 33 years, 2 months, 16 days\n",
      "Person 2's age: 27 years, 9 months, 2 days\n",
      "Double Day: 2010-10-05\n",
      "Person 1's age on Double Day: 17 years, 10 months, 38 days\n",
      "Person 2's age on Double Day: 6 years, 11 months, 43 days\n"
     ]
    }
   ],
   "source": [
    "# First, we need to calculate the age of both persons based on their birth dates. We can use the date.today() function from the datetime module to get the current date and then subtract each person's birth date from it to get their age. We can then print the ages of both persons in years, months, and days using the timedelta and divmod functions from the datetime module.\n",
    "\n",
    "# Next, we can use a loop to iterate over each day from the current date to some future date (e.g., 100 years from now). For each day, we can calculate the age of both persons and check if one person is exactly twice as old as the other. If we find a day where this condition is true, we have found the Double Day.\n",
    "\n",
    "\n",
    "from datetime import date, timedelta\n",
    "\n",
    "def calculate_age(birthdate):\n",
    "    today = date.today()\n",
    "    age_years = today.year - birthdate.year\n",
    "    age_months = today.month - birthdate.month\n",
    "    age_days = today.day - birthdate.day\n",
    "    if age_days < 0:\n",
    "        # Borrow from months if days are negative\n",
    "        borrow_month = (today.month - 1) % 12\n",
    "        if borrow_month == 0:\n",
    "            borrow_month = 12\n",
    "        borrow_year = today.year - (today.month - 1) // 12\n",
    "        borrowed_date = date(borrow_year, borrow_month, 1)\n",
    "        delta = (today - borrowed_date).days\n",
    "        age_months -= 1\n",
    "        age_days += delta\n",
    "    if age_months < 0:\n",
    "        # Borrow from years if months are negative\n",
    "        age_years -= 1\n",
    "        age_months += 12\n",
    "    return age_years, age_months, age_days\n",
    "\n",
    "def double_day(birthdate1, birthdate2):\n",
    "    age1 = calculate_age(birthdate1)\n",
    "    age2 = calculate_age(birthdate2)\n",
    "    print(\"Person 1's age: {} years, {} months, {} days\".format(*age1))\n",
    "    print(\"Person 2's age: {} years, {} months, {} days\".format(*age2))\n",
    "    current_date = date.today()\n",
    "    delta = timedelta(days=1)\n",
    "    while True:\n",
    "        age1 = calculate_age(birthdate1 + delta)\n",
    "        age2 = calculate_age(birthdate2 + delta)\n",
    "        if age1[0] == 2 * age2[0] or age2[0] == 2 * age1[0]:\n",
    "            double_day = birthdate1 + delta\n",
    "            break\n",
    "        delta += timedelta(days=1)\n",
    "        if delta > timedelta(days=36525): # Stop searching after 100 years\n",
    "            print(\"No Double Day found within 100 years.\")\n",
    "            return None\n",
    "    print(\"Double Day: {}\".format(double_day))\n",
    "    print(\"Person 1's age on Double Day: {} years, {} months, {} days\".format(*calculate_age(double_day + (birthdate1 - birthdate2))))\n",
    "    print(\"Person 2's age on Double Day: {} years, {} months, {} days\".format(*calculate_age(double_day + (birthdate2 - birthdate1))))\n",
    "\n",
    "# Example usage\n",
    "birthdate1 = date(1990, 1, 1)\n",
    "birthdate2 = date(1995, 6, 15)\n",
    "double_day(birthdate1, birthdate2)\n",
    "\n",
    "\n",
    "\n",
    "\n",
    "\n"
   ]
  },
  {
   "cell_type": "code",
   "execution_count": null,
   "metadata": {},
   "outputs": [],
   "source": [
    "# This code defines two functions: calculate_age, which calculates the age of a person given their birth date"
   ]
  },
  {
   "cell_type": "code",
   "execution_count": null,
   "metadata": {},
   "outputs": [],
   "source": []
  }
 ],
 "metadata": {
  "kernelspec": {
   "display_name": "Python 3",
   "language": "python",
   "name": "python3"
  },
  "language_info": {
   "codemirror_mode": {
    "name": "ipython",
    "version": 3
   },
   "file_extension": ".py",
   "mimetype": "text/x-python",
   "name": "python",
   "nbconvert_exporter": "python",
   "pygments_lexer": "ipython3",
   "version": "3.7.3"
  }
 },
 "nbformat": 4,
 "nbformat_minor": 2
}
