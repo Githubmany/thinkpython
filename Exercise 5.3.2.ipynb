{
 "cells": [
  {
   "cell_type": "code",
   "execution_count": null,
   "metadata": {},
   "outputs": [],
   "source": [
    "def is_triangle(a, b, c):\n",
    "    if a + b < c or b + c < a or c + a < b:\n",
    "        print(\"No\")\n",
    "    else:\n",
    "        print(\"Yes\")\n",
    "\n",
    "def check_triangle():\n",
    "    a = int(input(\"Enter the length of the first stick: \"))\n",
    "    b = int(input(\"Enter the length of the second stick: \"))\n",
    "    c = int(input(\"Enter the length of the third stick: \"))\n",
    "    is_triangle(a, b, c)\n",
    "\n",
    "check_triangle()"
   ]
  },
  {
   "cell_type": "code",
   "execution_count": null,
   "metadata": {},
   "outputs": [],
   "source": [
    "# The check_triangle function prompts the user to input the three stick lengths as integers, and then calls the is_triangle function to check whether they can form a triangle. If they can form a triangle, the is_triangle function will print \"Yes\", and if they cannot, it will print \"No\"."
   ]
  }
 ],
 "metadata": {
  "kernelspec": {
   "display_name": "Python 3",
   "language": "python",
   "name": "python3"
  },
  "language_info": {
   "codemirror_mode": {
    "name": "ipython",
    "version": 3
   },
   "file_extension": ".py",
   "mimetype": "text/x-python",
   "name": "python",
   "nbconvert_exporter": "python",
   "pygments_lexer": "ipython3",
   "version": "3.7.3"
  }
 },
 "nbformat": 4,
 "nbformat_minor": 2
}
