{
 "cells": [
  {
   "cell_type": "code",
   "execution_count": 1,
   "metadata": {},
   "outputs": [],
   "source": [
    "def prompt_user():\n",
    "    a = int(input(\"Enter a: \"))\n",
    "    b = int(input(\"Enter b: \"))\n",
    "    c = int(input(\"Enter c: \"))\n",
    "    n = int(input(\"Enter n: \"))\n",
    "    check_fermat(a, b, c, n)\n",
    "\n",
    "def check_fermat(a, b, c, n):\n",
    "    if n > 2 and (a**n + b**n == c**n):\n",
    "        print(\"Holy smokes, Fermat was wrong!\")\n",
    "    else:\n",
    "        print(\"No, that doesn't work.\")"
   ]
  },
  {
   "cell_type": "code",
   "execution_count": null,
   "metadata": {},
   "outputs": [],
   "source": [
    "#The check_fermat() function takes a, b, c, and n as parameters and checks whether they violate Fermat's theorem using the conditional statement n > 2 and (a**n + b**n == c**n). If this statement evaluates to True, the function prints \"Holy smokes, Fermat was wrong!\" using the print() function. Otherwise, it prints \"No, that doesn't work.\" using the print() function.\n",
    "#You can call the prompt_user() function to run the program and prompt the user to input values for a, b, c, and n, and then check whether they violate Fermat's theorem using the check_fermat() function."
   ]
  }
 ],
 "metadata": {
  "kernelspec": {
   "display_name": "Python 3",
   "language": "python",
   "name": "python3"
  },
  "language_info": {
   "codemirror_mode": {
    "name": "ipython",
    "version": 3
   },
   "file_extension": ".py",
   "mimetype": "text/x-python",
   "name": "python",
   "nbconvert_exporter": "python",
   "pygments_lexer": "ipython3",
   "version": "3.7.3"
  }
 },
 "nbformat": 4,
 "nbformat_minor": 2
}
