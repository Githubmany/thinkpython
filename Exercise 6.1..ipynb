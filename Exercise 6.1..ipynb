{
 "cells": [
  {
   "cell_type": "code",
   "execution_count": 2,
   "metadata": {},
   "outputs": [],
   "source": [
    "def b(z):\n",
    "    prod = a(z, z)\n",
    "    print(z, prod)\n",
    "    return prod\n",
    "\n",
    "def a(x, y):\n",
    "    x = x + 1\n",
    "    return x * y\n",
    "\n",
    "def c(x, y, z):\n",
    "    \n",
    "    total = x + y + z\n",
    "    square = b(total)**2\n",
    "    return square"
   ]
  },
  {
   "cell_type": "code",
   "execution_count": 3,
   "metadata": {},
   "outputs": [
    {
     "ename": "SyntaxError",
     "evalue": "invalid syntax (<ipython-input-3-3fa33db25ff3>, line 3)",
     "output_type": "error",
     "traceback": [
      "\u001b[0;36m  File \u001b[0;32m\"<ipython-input-3-3fa33db25ff3>\"\u001b[0;36m, line \u001b[0;32m3\u001b[0m\n\u001b[0;31m    The b function takes one argument, z, and assigns the result of calling the a function with z as both arguments to the variable prod. It then prints z and prod, and returns prod.\u001b[0m\n\u001b[0m        ^\u001b[0m\n\u001b[0;31mSyntaxError\u001b[0m\u001b[0;31m:\u001b[0m invalid syntax\n"
     ]
    }
   ],
   "source": [
    "# The program defines three functions: a, b, and c. The c function takes three arguments x, y, and z, and first computes the sum of the three arguments and assigns the result to the variable total. It then calls the b function with total as an argument and assigns the result to the variable square. Finally, it returns the square of the result of b.\n",
    "\n",
    "# The b function takes one argument, z, and assigns the result of calling the a function with z as both arguments to the variable prod. It then prints z and prod, and returns prod.\n",
    "\n",
    "# The a function takes two arguments, x and y, and first increments x. It then returns the product of x and y.\n",
    "\n",
    "# When the c function is called with arguments 1, 2, and 3, the b function is called with an argument of 6, because total is computed as 1 + 2 + 3. The a function is called twice with an argument of 6, first by b and then by c. The first call to a returns 42 and assigns it to prod in b. b then prints 6 42. The second call to a returns 42 again, which is squared by b and returned to c. c then returns 42**2, which is 1764. Therefore, the program prints 6 42 and returns 1764. A stack diagram for the program can be found at [1].\n",
    "\n",
    "\n",
    "\n",
    "\n",
    "\n"
   ]
  },
  {
   "cell_type": "code",
   "execution_count": null,
   "metadata": {},
   "outputs": [],
   "source": []
  }
 ],
 "metadata": {
  "kernelspec": {
   "display_name": "Python 3",
   "language": "python",
   "name": "python3"
  },
  "language_info": {
   "codemirror_mode": {
    "name": "ipython",
    "version": 3
   },
   "file_extension": ".py",
   "mimetype": "text/x-python",
   "name": "python",
   "nbconvert_exporter": "python",
   "pygments_lexer": "ipython3",
   "version": "3.7.3"
  }
 },
 "nbformat": 4,
 "nbformat_minor": 2
}
