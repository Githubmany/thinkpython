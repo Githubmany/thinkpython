{
 "cells": [
  {
   "cell_type": "code",
   "execution_count": null,
   "id": "b48883af",
   "metadata": {},
   "outputs": [],
   "source": [
    "# You can use a minus sign to make a negative number like -2. What happens if you pu a plus sign before a number? What about 2++2?"
   ]
  },
  {
   "cell_type": "code",
   "execution_count": 1,
   "id": "2360fc8a",
   "metadata": {},
   "outputs": [
    {
     "data": {
      "text/plain": [
       "4"
      ]
     },
     "execution_count": 1,
     "metadata": {},
     "output_type": "execute_result"
    }
   ],
   "source": [
    "2++2 # 2+(+)2 is 4 or +4"
   ]
  },
  {
   "cell_type": "code",
   "execution_count": 2,
   "id": "373c1285",
   "metadata": {},
   "outputs": [
    {
     "data": {
      "text/plain": [
       "0"
      ]
     },
     "execution_count": 2,
     "metadata": {},
     "output_type": "execute_result"
    }
   ],
   "source": [
    "2+-2 # +-x=-x then 2-2=0"
   ]
  },
  {
   "cell_type": "code",
   "execution_count": 3,
   "id": "6724b486",
   "metadata": {},
   "outputs": [
    {
     "data": {
      "text/plain": [
       "4"
      ]
     },
     "execution_count": 3,
     "metadata": {},
     "output_type": "execute_result"
    }
   ],
   "source": [
    "2--2 # --x=+x then 2+2=4"
   ]
  },
  {
   "cell_type": "code",
   "execution_count": 4,
   "id": "a2ac30d8",
   "metadata": {},
   "outputs": [
    {
     "data": {
      "text/plain": [
       "0"
      ]
     },
     "execution_count": 4,
     "metadata": {},
     "output_type": "execute_result"
    }
   ],
   "source": [
    "2-+2 # -+x=-x then 2-2=0"
   ]
  },
  {
   "cell_type": "code",
   "execution_count": null,
   "id": "87e05f39",
   "metadata": {},
   "outputs": [],
   "source": [
    "Natural languages like English were not designed by people; they evolved naturally. Formal languages are languages\n",
    "designed by people for specific applications. The notation that mathematicians use is a formal language that is \n",
    "particularly good at denoting relationships amoung and symbols. Python programming formal language for instance, \n",
    "was designed to express computations. Python like othe formal languages, has strict syntax rules that govern the \n",
    "structure of statements. Syntax rules come in two flavors, pertaining to tokens, analogous to a word  in a natural \n",
    "language, and structures.Tokens such as numbers, are the basic elements of the formal languages like python. The \n",
    "second type of syntax rule pertains to the way tokens are combined. The way we combine + and - in this case determine\n",
    "the answers we get."
   ]
  }
 ],
 "metadata": {
  "kernelspec": {
   "display_name": "Python 3 (ipykernel)",
   "language": "python",
   "name": "python3"
  },
  "language_info": {
   "codemirror_mode": {
    "name": "ipython",
    "version": 3
   },
   "file_extension": ".py",
   "mimetype": "text/x-python",
   "name": "python",
   "nbconvert_exporter": "python",
   "pygments_lexer": "ipython3",
   "version": "3.10.4"
  }
 },
 "nbformat": 4,
 "nbformat_minor": 5
}
