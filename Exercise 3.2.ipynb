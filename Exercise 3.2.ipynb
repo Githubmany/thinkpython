{
 "cells": [
  {
   "cell_type": "markdown",
   "id": "93daa8ed",
   "metadata": {},
   "source": [
    "Exercise 3.2. A function object is a value you can assign to a variable or pass as an argument. For\n",
    "example, do_twice is a function that takes a function object as an argument and calls it twice:\n",
    "def do_twice(f):\n",
    "f()\n",
    "f()\n",
    "Here’s an example that uses do_twice to call a function named print_spam twice.\n",
    "def print_spam():\n",
    "print('spam')\n",
    "do_twice(print_spam)\n",
    "1. Type this example into a script and test it.\n",
    "2. Modify do_twice so that it takes two arguments, a function object and a value, and calls the\n",
    "function twice, passing the value as an argument.\n",
    "3. Copy the definition of print_twice from earlier in this chapter to your script.\n",
    "4. Use the modified version of do_twice to call print_twice twice, passing 'spam' as an\n",
    "argument.\n",
    "5. Define a new function called do_four that takes a function object and a value and calls the\n",
    "function four times, passing the value as a parameter. There should be only two statements in\n",
    "the body of this function, not four.\n",
    "Solution: http: // thinkpython2. com/ code/ do_ four. py ."
   ]
  },
  {
   "cell_type": "code",
   "execution_count": 4,
   "id": "85b12c30",
   "metadata": {},
   "outputs": [],
   "source": [
    "def do_twice(f, value):\n",
    "    f(value)\n",
    "    f(value)"
   ]
  },
  {
   "cell_type": "code",
   "execution_count": 1,
   "id": "cfafbdda",
   "metadata": {},
   "outputs": [],
   "source": [
    "def print_spam(value):\n",
    "    print(value)\n"
   ]
  },
  {
   "cell_type": "code",
   "execution_count": 5,
   "id": "a5bdb16b",
   "metadata": {},
   "outputs": [],
   "source": [
    "def do_four(f, value, repeat=4):\n",
    "    do_repeat(f, value, repeat)"
   ]
  },
  {
   "cell_type": "code",
   "execution_count": null,
   "id": "8d5afa15",
   "metadata": {},
   "outputs": [],
   "source": []
  }
 ],
 "metadata": {
  "kernelspec": {
   "display_name": "Python 3 (ipykernel)",
   "language": "python",
   "name": "python3"
  },
  "language_info": {
   "codemirror_mode": {
    "name": "ipython",
    "version": 3
   },
   "file_extension": ".py",
   "mimetype": "text/x-python",
   "name": "python",
   "nbconvert_exporter": "python",
   "pygments_lexer": "ipython3",
   "version": "3.10.4"
  }
 },
 "nbformat": 4,
 "nbformat_minor": 5
}
