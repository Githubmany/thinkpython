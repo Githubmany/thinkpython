{
 "cells": [
  {
   "cell_type": "code",
   "execution_count": null,
   "metadata": {},
   "outputs": [],
   "source": [
    "# Exercise 14.1. Write a function called sed that takes as arguments a pattern string, a replacement\n",
    "# string, and two filenames; it should read the first file and write the contents into the second file\n",
    "# (creating it if necessary). If the pattern string appears anywhere in the file, it should be replaced\n",
    "# with the replacement string.\n",
    "# If an error occurs while opening, reading, writing or closing files, your program should catch the\n",
    "# exception, print an error message, and exit."
   ]
  },
  {
   "cell_type": "code",
   "execution_count": 2,
   "metadata": {},
   "outputs": [],
   "source": [
    "#To write a function in Python that replaces a pattern string with a replacement string in a file, you can follow the steps below:\n",
    "\n",
    "# 1. Define a function called sed that takes the pattern string, replacement string, and two filenames as arguments.\n",
    "# 2. Use a try-except block to catch any exceptions that may occur while opening, reading, writing, or closing files.\n",
    "# 3. Use the with statement to open the first file in read mode and the second file in write mode. If the second file does not exist, it will be created.\n",
    "# 4. Use a for loop to read each line of the first file, replace any occurrences of the pattern string with the replacement string, and write the modified line to the second file.\n",
    "# 5. Close both files using the close() method.\n",
    "\n",
    "def sed(pattern, replacement, file1, file2):\n",
    "    try:\n",
    "        with open(file1, 'r') as f1, open(file2, 'w') as f2:\n",
    "            for line in f1:\n",
    "                new_line = line.replace(pattern, replacement)\n",
    "                f2.write(new_line)\n",
    "    except Exception as e:\n",
    "        print(\"An error occurred: \", e)\n",
    "        exit()\n"
   ]
  },
  {
   "cell_type": "code",
   "execution_count": null,
   "metadata": {},
   "outputs": [],
   "source": [
    "sed('cat', 'dog', 'file1.txt', 'file2.txt') # test the function with some inputs:\n",
    "\n",
    "\n",
    "# This will replace all occurrences of the string \"cat\" with \"dog\" in file1.txt and write the modified contents to file2.txt.\n",
    "# Note that in this implementation, the function will catch any exception that occurs while working with files and print an error message before exiting the program"
   ]
  },
  {
   "cell_type": "code",
   "execution_count": null,
   "metadata": {},
   "outputs": [],
   "source": []
  }
 ],
 "metadata": {
  "kernelspec": {
   "display_name": "Python 3",
   "language": "python",
   "name": "python3"
  },
  "language_info": {
   "codemirror_mode": {
    "name": "ipython",
    "version": 3
   },
   "file_extension": ".py",
   "mimetype": "text/x-python",
   "name": "python",
   "nbconvert_exporter": "python",
   "pygments_lexer": "ipython3",
   "version": "3.7.3"
  }
 },
 "nbformat": 4,
 "nbformat_minor": 2
}
