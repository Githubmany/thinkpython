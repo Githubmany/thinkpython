{
 "cells": [
  {
   "cell_type": "code",
   "execution_count": null,
   "metadata": {},
   "outputs": [],
   "source": [
    "#To be more specific, the function would keep adding n and s together with each recursive call, but the value of n would never become zero to trigger the base case. The function would keep making recursive calls with n becoming more negative with each call, and the value of s increasing each time due to the previous value of n being added to it.\n",
    "\n",
    "In summary, calling the function with a negative value for n would result in an infinite recursion loop, and the program would never terminate."
   ]
  }
 ],
 "metadata": {
  "kernelspec": {
   "display_name": "Python 3",
   "language": "python",
   "name": "python3"
  },
  "language_info": {
   "codemirror_mode": {
    "name": "ipython",
    "version": 3
   },
   "file_extension": ".py",
   "mimetype": "text/x-python",
   "name": "python",
   "nbconvert_exporter": "python",
   "pygments_lexer": "ipython3",
   "version": "3.7.3"
  }
 },
 "nbformat": 4,
 "nbformat_minor": 2
}
