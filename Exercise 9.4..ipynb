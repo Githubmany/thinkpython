{
 "cells": [
  {
   "cell_type": "code",
   "execution_count": null,
   "metadata": {},
   "outputs": [],
   "source": [
    "# Exercise 9.4. Write a function named uses_only that takes a word and a string of letters, and\n",
    "# that returns True if the word contains only letters in the list. Can you make a sentence using only\n",
    "# the letters acefhlo? Other than “Hoe alfalfa”?"
   ]
  },
  {
   "cell_type": "code",
   "execution_count": null,
   "metadata": {},
   "outputs": [],
   "source": [
    "# The 'uses_only' function that takes a word and a string of letters and returns True if the word contains only letters in the list"
   ]
  },
  {
   "cell_type": "code",
   "execution_count": null,
   "metadata": {},
   "outputs": [],
   "source": [
    "def uses_only(word, letters):\n",
    "    for letter in word:\n",
    "        if letter not in letters:\n",
    "            return False\n",
    "    return True\n",
    "\n",
    "fin = open('words.txt')\n",
    "count = 0\n",
    "for line in fin:\n",
    "    word = line.strip()\n",
    "    if uses_only(word, 'acefhlo'):\n",
    "        print(word)\n",
    "        count += 1\n",
    "print(count)"
   ]
  },
  {
   "cell_type": "code",
   "execution_count": null,
   "metadata": {},
   "outputs": [],
   "source": [
    "# The 'uses_only' function to check whether each word in the \"words.txt\" file contains only the letters 'acefhlo'. It prints out the words that contain only these letters and returns the count of such words."
   ]
  }
 ],
 "metadata": {
  "kernelspec": {
   "display_name": "Python 3",
   "language": "python",
   "name": "python3"
  },
  "language_info": {
   "codemirror_mode": {
    "name": "ipython",
    "version": 3
   },
   "file_extension": ".py",
   "mimetype": "text/x-python",
   "name": "python",
   "nbconvert_exporter": "python",
   "pygments_lexer": "ipython3",
   "version": "3.7.3"
  }
 },
 "nbformat": 4,
 "nbformat_minor": 2
}
