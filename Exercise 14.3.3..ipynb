{
 "cells": [
  {
   "cell_type": "code",
   "execution_count": null,
   "metadata": {},
   "outputs": [],
   "source": [
    "# Exercise 14.3.3. To double-check, you can use the Unix command diff."
   ]
  },
  {
   "cell_type": "code",
   "execution_count": null,
   "metadata": {},
   "outputs": [],
   "source": [
    "# The Unix command \"diff\" can be used to compare two files and display the differences between them. To use the \"diff\" command, you need to provide the names of the two files that you want to compare. If the files are identical, no output is generated. If the files differ, the command outputs the lines that differ between the files.\n",
    "# For instance, if you have two files named \"file1.txt\" and \"file2.txt\" in the current directory, you can compare them using the following command:\n",
    "\n",
    "diff file1.txt file2.txt\n",
    "\n",
    "# This will show the differences between the two files, if any. If there are no differences, no output will be generated.\n",
    "# Note that the \"diff\" command compares files line by line. If you want to compare binary files, you can use the \"cmp\" command instead"
   ]
  },
  {
   "cell_type": "code",
   "execution_count": null,
   "metadata": {},
   "outputs": [],
   "source": []
  },
  {
   "cell_type": "code",
   "execution_count": null,
   "metadata": {},
   "outputs": [],
   "source": []
  }
 ],
 "metadata": {
  "kernelspec": {
   "display_name": "Python 3",
   "language": "python",
   "name": "python3"
  },
  "language_info": {
   "codemirror_mode": {
    "name": "ipython",
    "version": 3
   },
   "file_extension": ".py",
   "mimetype": "text/x-python",
   "name": "python",
   "nbconvert_exporter": "python",
   "pygments_lexer": "ipython3",
   "version": "3.7.3"
  }
 },
 "nbformat": 4,
 "nbformat_minor": 2
}
