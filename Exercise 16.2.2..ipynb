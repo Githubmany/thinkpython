{
 "cells": [
  {
   "cell_type": "code",
   "execution_count": null,
   "metadata": {},
   "outputs": [],
   "source": [
    "# Exercise 16.2.2. Write a program that takes a birthday as input and prints the user’s age and the number of\n",
    "# days, hours, minutes and seconds until their next birthday."
   ]
  },
  {
   "cell_type": "code",
   "execution_count": 1,
   "metadata": {},
   "outputs": [
    {
     "name": "stdout",
     "output_type": "stream",
     "text": [
      "You are currently 42 years old.\n",
      "Your next birthday is in:\n",
      "143 days, 0 hours, 0 minutes, and 0 seconds.\n"
     ]
    }
   ],
   "source": [
    "# Let us take a user's birthday as input and prints their age along with the number of days, hours, minutes, and seconds remaining until their next birthday.\n",
    "\n",
    "import datetime\n",
    "\n",
    "def print_age_and_time_until_birthday(birthday):\n",
    "    # Get today's date\n",
    "    today = datetime.date.today()\n",
    "    # Get the user's birthday\n",
    "    bday = datetime.datetime.strptime(birthday, '%d-%m-%Y').date()\n",
    "    # Calculate the user's age\n",
    "    age = today.year - bday.year - ((today.month, today.day) < (bday.month, bday.day))\n",
    "    # Calculate the user's next birthday\n",
    "    next_bday = datetime.date(today.year, bday.month, bday.day)\n",
    "    if next_bday < today:\n",
    "        next_bday = datetime.date(today.year+1, bday.month, bday.day)\n",
    "    # Calculate the time until the user's next birthday\n",
    "    time_until_bday = next_bday - today\n",
    "    # Convert time_until_bday to seconds\n",
    "    total_seconds = int(time_until_bday.total_seconds())\n",
    "    # Calculate the number of days, hours, minutes, and seconds until the user's next birthday\n",
    "    days = total_seconds // (24 * 60 * 60)\n",
    "    total_seconds %= (24 * 60 * 60)\n",
    "    hours = total_seconds // (60 * 60)\n",
    "    total_seconds %= (60 * 60)\n",
    "    minutes = total_seconds // 60\n",
    "    seconds = total_seconds % 60\n",
    "    # Print the user's age and time until next birthday\n",
    "    print(\"You are currently\", age, \"years old.\")\n",
    "    print(\"Your next birthday is in:\")\n",
    "    print(days, \"days,\", hours, \"hours,\", minutes, \"minutes, and\", seconds, \"seconds.\")\n",
    "    \n",
    "# Example usage:\n",
    "print_age_and_time_until_birthday('07-08-1980')\n"
   ]
  },
  {
   "cell_type": "code",
   "execution_count": null,
   "metadata": {},
   "outputs": [],
   "source": [
    "# we import the datetime module and define a function print_age_and_time_until_birthday() that takes the user's birthday as input. Then, we use various datetime functions to calculate the user's age and the time until their next birthday. Finally, we print the user's age and the time remaining until their next birthday in days, hours, minutes, and seconds.\n",
    "\n",
    "# Executing the above code with the user's birthday as input would output their current age and the time remaining until their next birthday in days, hours, minutes, and seconds."
   ]
  },
  {
   "cell_type": "code",
   "execution_count": null,
   "metadata": {},
   "outputs": [],
   "source": []
  }
 ],
 "metadata": {
  "kernelspec": {
   "display_name": "Python 3",
   "language": "python",
   "name": "python3"
  },
  "language_info": {
   "codemirror_mode": {
    "name": "ipython",
    "version": 3
   },
   "file_extension": ".py",
   "mimetype": "text/x-python",
   "name": "python",
   "nbconvert_exporter": "python",
   "pygments_lexer": "ipython3",
   "version": "3.7.3"
  }
 },
 "nbformat": 4,
 "nbformat_minor": 2
}
