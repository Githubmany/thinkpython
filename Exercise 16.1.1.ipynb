{
 "cells": [
  {
   "cell_type": "code",
   "execution_count": null,
   "metadata": {},
   "outputs": [],
   "source": [
    "Exercise 16.1.1 Write a function called mul_time that takes a Time object and a number and returns\n",
    "a new Time object that contains the product of the original Time and the number."
   ]
  },
  {
   "cell_type": "code",
   "execution_count": null,
   "metadata": {},
   "outputs": [],
   "source": [
    "def mul_time(time, multiplicand):\n",
    "    time_int = time_to_int(time) * multiplicand\n",
    "    new_time = int_to_time(time_int)\n",
    "    if new_time.hour > 12:\n",
    "        new_time.hour = new_time.hour % 12\n",
    "    return new_time\n",
    "\n",
    "# This function takes a Time object and a number as input, and returns a new Time object that contains the product of the original Time and the number. It achieves this by converting the Time object to an integer using the time_to_int function, multiplying it by the given number, and then converting the result back to a Time object using the int_to_time function.\n",
    "\n",
    "# Note that the mul_time function also checks if the hour value of the resulting Time object is greater than 12, and if so, it converts it to a 12-hour format by using the modulo operator.\n",
    "\n",
    "# It is worth mentioning that the time_to_int and int_to_time functions used in the mul_time function are not provided in the given web search results. Therefore, these functions need to be defined separately before using the mul_time function."
   ]
  },
  {
   "cell_type": "code",
   "execution_count": null,
   "metadata": {},
   "outputs": [],
   "source": []
  },
  {
   "cell_type": "code",
   "execution_count": null,
   "metadata": {},
   "outputs": [],
   "source": []
  }
 ],
 "metadata": {
  "kernelspec": {
   "display_name": "Python 3",
   "language": "python",
   "name": "python3"
  },
  "language_info": {
   "codemirror_mode": {
    "name": "ipython",
    "version": 3
   },
   "file_extension": ".py",
   "mimetype": "text/x-python",
   "name": "python",
   "nbconvert_exporter": "python",
   "pygments_lexer": "ipython3",
   "version": "3.7.3"
  }
 },
 "nbformat": 4,
 "nbformat_minor": 2
}
