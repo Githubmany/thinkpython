{
 "cells": [
  {
   "cell_type": "raw",
   "id": "561a4664",
   "metadata": {},
   "source": [
    "# Exercise 3.1. Write a function named right_justify that takes a string named s as a parameter\n",
    "and prints the string with enough leading spaces so that the last letter of the string is in column 70\n",
    "of the display.\n",
    ">>> right_justify('monty')\n",
    "monty\n",
    "Hint: Use string concatenation and repetition. Also, Python provides a built-in function called len\n",
    "that returns the length of a string, so the value of len('monty') is 5."
   ]
  },
  {
   "cell_type": "code",
   "execution_count": 7,
   "id": "1f1da999",
   "metadata": {},
   "outputs": [],
   "source": [
    "def right_justify(s): # function right_justify has taken the argument s\n",
    "    length_of_string = len(s)\n",
    "    leading_spaces = 70 - len(s) # s parameter is always occupying the last spaces on the right.\n",
    "    result = leading_spaces * \" \"  + s\n",
    "    print(result)\n",
    "    \n",
    "    "
   ]
  },
  {
   "cell_type": "code",
   "execution_count": 9,
   "id": "dcdc469f",
   "metadata": {},
   "outputs": [
    {
     "name": "stdout",
     "output_type": "stream",
     "text": [
      "                                                                 Monty\n"
     ]
    }
   ],
   "source": [
    "right_justify('Monty')"
   ]
  },
  {
   "cell_type": "code",
   "execution_count": null,
   "id": "1c6f7231",
   "metadata": {},
   "outputs": [],
   "source": []
  }
 ],
 "metadata": {
  "kernelspec": {
   "display_name": "Python 3 (ipykernel)",
   "language": "python",
   "name": "python3"
  },
  "language_info": {
   "codemirror_mode": {
    "name": "ipython",
    "version": 3
   },
   "file_extension": ".py",
   "mimetype": "text/x-python",
   "name": "python",
   "nbconvert_exporter": "python",
   "pygments_lexer": "ipython3",
   "version": "3.10.4"
  }
 },
 "nbformat": 4,
 "nbformat_minor": 5
}
